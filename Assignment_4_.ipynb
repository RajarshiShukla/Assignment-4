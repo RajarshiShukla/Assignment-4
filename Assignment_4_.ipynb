{
  "nbformat": 4,
  "nbformat_minor": 0,
  "metadata": {
    "colab": {
      "provenance": []
    },
    "kernelspec": {
      "name": "python3",
      "display_name": "Python 3"
    },
    "language_info": {
      "name": "python"
    }
  },
  "cells": [
    {
      "cell_type": "code",
      "source": [
        "#  Q1. Explain Class and Object with respect to Object-Oriented Programming. Give a suitable example.\n",
        "\n",
        "# Ans.  Python Class:-  A class is considered as a blueprint of objects.We can think of the class as a sketch (prototype) of a house. It contains all the details about the floors, doors, windows, etc.\n",
        "#                       Based on these descriptions we build the house. House is the object.  We use the class keyword to create a class in Python.\n",
        "#  Python Objects:-\n",
        "#  An object is called an instance of a class. For example, suppose Bike is a class then we can create objects like bike1, bike2, etc from the class.\n",
        "#  Bike - the name of the class\n",
        "#  name/gear - variables inside the class\n",
        "#  Example:\n",
        "\n",
        "# define a class\n",
        "class Bike:\n",
        "    name = \"\"\n",
        "    gear = 0\n",
        "\n",
        "# create object of class\n",
        "bike1 = Bike()\n",
        "\n",
        "# access attributes and assign new values\n",
        "bike1.gear = 11\n",
        "bike1.name = \"Mountain Bike\"\n",
        "\n",
        "print(f\"Name: {bike1.name}, Gears: {bike1.gear} \")\n",
        "\n",
        "\n"
      ],
      "metadata": {
        "colab": {
          "base_uri": "https://localhost:8080/"
        },
        "id": "k4qZIuHcNcGN",
        "outputId": "b3bd05ee-e3a7-44c9-bb1c-2ee965bc70cd"
      },
      "execution_count": 82,
      "outputs": [
        {
          "output_type": "stream",
          "name": "stdout",
          "text": [
            "Name: Mountain Bike, Gears: 11 \n"
          ]
        }
      ]
    },
    {
      "cell_type": "code",
      "source": [
        "#  Q2. Name the four pillars of OOPs.\n",
        "\n",
        "# Ans.  The Four Pillars of Object Oriented Programming\n",
        "#       Abstraction.\n",
        "#       Encapsulation.\n",
        "#       Inheritance.\n",
        "#       Polymorphism."
      ],
      "metadata": {
        "id": "DAH78zw13fN9"
      },
      "execution_count": 83,
      "outputs": []
    },
    {
      "cell_type": "code",
      "source": [
        "# Q3. Explain why the __init__() function is used. Give a suitable example.\n",
        "# Q4. Why self is used in OOPs?\n",
        "# Q5. What is inheritance? Give an example for each type of inheritance."
      ],
      "metadata": {
        "id": "rNK99bKB4UUU"
      },
      "execution_count": 84,
      "outputs": []
    },
    {
      "cell_type": "code",
      "source": [
        "# Q3. Explain why the __init__() function is used. Give a suitable example.\n",
        "\n",
        "# Ans.  \"__init__\" is a reseved method in python classes. It is called as a constructor in object oriented terminology.\n",
        "#       This method is called when an object is created from a class and it allows the class to initialize the attributes of the class.\n",
        "\n",
        "# Example:\n",
        "\n",
        "class Temple:\n",
        "  def __init__(self , God , state):\n",
        "    self_God = God\n",
        "    self_state = state\n",
        "\n",
        "  def people(self):\n",
        "     return(\"Very Excited to go to The Temple in Puri\")\n",
        "\n",
        "w = Temple('ShreeJagannath' , 'Odisha' )\n",
        "\n",
        "print(w.people())"
      ],
      "metadata": {
        "colab": {
          "base_uri": "https://localhost:8080/"
        },
        "id": "yTxXHmdKINGH",
        "outputId": "c097e078-c406-49d1-c228-9de0ca57407d"
      },
      "execution_count": 85,
      "outputs": [
        {
          "output_type": "stream",
          "name": "stdout",
          "text": [
            "Very Excited to go to The Temple in Puri\n"
          ]
        }
      ]
    },
    {
      "cell_type": "code",
      "source": [
        "# Q4. Why self is used in OOPs?\n",
        "\n",
        "# Ans. self represents the instance of the class. By using the “self”  we can access the attributes and methods of the class in python.\n",
        "# It binds the attributes with the given arguments.The reason we need to use self is because Python does not use the syntax to refer to instance attributes.\n",
        "# Python decided to do methods in a way that makes the instance to which the method belongs be passed automatically, but not received automatically: the first parameter of methods is the instance the method is called on.\n",
        "# Self is always pointing to Current Object."
      ],
      "metadata": {
        "id": "44YkC3byJChd"
      },
      "execution_count": 86,
      "outputs": []
    },
    {
      "cell_type": "code",
      "source": [
        "# Q5. What is inheritance? Give an example for each type of inheritance.\n",
        "\n",
        "# Ans. Inheritance is defined as the mechanism of inheriting the properties of the base class to the child class.\n",
        "\n",
        "#     Types of Inheritance in Python:\n",
        "\n",
        "#  1.  Single Inheritance:-\n",
        "#     Single inheritance enables a derived class to inherit properties from a single parent class, thus enabling code reusability and the addition of new features to existing code.\n",
        "\n",
        "class Parent:\n",
        "  def  fun1(self):\n",
        "    return \"Good Morning Everybody\"\n",
        "\n",
        "class Child(Parent):\n",
        "  def fun2(self):\n",
        "    return \" Good Morning Mam \"\n",
        "\n",
        "teacher = Child()\n",
        "teacher.fun1()"
      ],
      "metadata": {
        "id": "VaWrUEwJMcPi",
        "colab": {
          "base_uri": "https://localhost:8080/",
          "height": 36
        },
        "outputId": "4c49901d-ec84-459b-83ce-70e227d89e50"
      },
      "execution_count": 87,
      "outputs": [
        {
          "output_type": "execute_result",
          "data": {
            "text/plain": [
              "'Good Morning Everybody'"
            ],
            "application/vnd.google.colaboratory.intrinsic+json": {
              "type": "string"
            }
          },
          "metadata": {},
          "execution_count": 87
        }
      ]
    },
    {
      "cell_type": "code",
      "source": [
        "teacher.fun2()"
      ],
      "metadata": {
        "colab": {
          "base_uri": "https://localhost:8080/",
          "height": 36
        },
        "id": "tNMAfdaKYa_q",
        "outputId": "4d816818-e38a-4785-da4d-924960de2a87"
      },
      "execution_count": 88,
      "outputs": [
        {
          "output_type": "execute_result",
          "data": {
            "text/plain": [
              "' Good Morning Mam '"
            ],
            "application/vnd.google.colaboratory.intrinsic+json": {
              "type": "string"
            }
          },
          "metadata": {},
          "execution_count": 88
        }
      ]
    },
    {
      "cell_type": "code",
      "source": [
        "#  2. Multiple Inheritance:-\n",
        "#     When a class can be derived from more than one base class this type of inheritance is called multiple inheritances.\n",
        "#     In multiple inheritances, all the features of the base classes are inherited into the derived class.\n",
        "\n",
        "class friend1:\n",
        "  def friend1(self):\n",
        "    return \"Hello guys\"\n",
        "\n",
        "class friend2:\n",
        "  def friend2(self):\n",
        "    return \"Hello brother\"\n",
        "\n",
        "class Friend(friend1 , friend2):\n",
        "  def Friend(self):\n",
        "    return \" Jai  Maa  Bharti \"\n",
        "\n",
        "fun = Friend()\n",
        "fun.friend1()"
      ],
      "metadata": {
        "colab": {
          "base_uri": "https://localhost:8080/",
          "height": 36
        },
        "id": "O4HQiOB7YjCJ",
        "outputId": "8763a119-25f8-4df5-d44b-d387431ae3a8"
      },
      "execution_count": 89,
      "outputs": [
        {
          "output_type": "execute_result",
          "data": {
            "text/plain": [
              "'Hello guys'"
            ],
            "application/vnd.google.colaboratory.intrinsic+json": {
              "type": "string"
            }
          },
          "metadata": {},
          "execution_count": 89
        }
      ]
    },
    {
      "cell_type": "code",
      "source": [
        "fun.friend2()"
      ],
      "metadata": {
        "colab": {
          "base_uri": "https://localhost:8080/",
          "height": 36
        },
        "id": "XhcDeDWLawOE",
        "outputId": "a05fb0ea-1a1d-4303-b5dd-a228ef8de6cf"
      },
      "execution_count": 90,
      "outputs": [
        {
          "output_type": "execute_result",
          "data": {
            "text/plain": [
              "'Hello brother'"
            ],
            "application/vnd.google.colaboratory.intrinsic+json": {
              "type": "string"
            }
          },
          "metadata": {},
          "execution_count": 90
        }
      ]
    },
    {
      "cell_type": "code",
      "source": [
        "fun.Friend()"
      ],
      "metadata": {
        "colab": {
          "base_uri": "https://localhost:8080/",
          "height": 36
        },
        "id": "uQIeIG3uaz7P",
        "outputId": "841252a2-fbfb-488b-80d8-a71594f82632"
      },
      "execution_count": 91,
      "outputs": [
        {
          "output_type": "execute_result",
          "data": {
            "text/plain": [
              "' Jai  Maa  Bharti '"
            ],
            "application/vnd.google.colaboratory.intrinsic+json": {
              "type": "string"
            }
          },
          "metadata": {},
          "execution_count": 91
        }
      ]
    },
    {
      "cell_type": "code",
      "source": [
        "#  3.  Multilevel Inheritance :-\n",
        "#     In multilevel inheritance, features of the base class and the derived class are further inherited into the new derived class.\n",
        "#     This is similar to a relationship representing a child and a grandfather.\n",
        "\n",
        "class Maa_Pitaji :\n",
        "  def  Sanskar1(self):\n",
        "    return \" Give their children sanskar\"\n",
        "\n",
        "class Children(Maa_Pitaji):\n",
        "  def Sanskar2(self):\n",
        "    return \"  make parents  feel  proud \"\n",
        "\n",
        "class Grandchildren(Children):\n",
        "  def Sanskar3(self):\n",
        "     return \"will do  great work in their  life\"\n",
        "\n",
        "Happiness = Grandchildren()\n",
        "\n",
        "Happiness.Sanskar1()"
      ],
      "metadata": {
        "colab": {
          "base_uri": "https://localhost:8080/",
          "height": 36
        },
        "id": "Qw4i2USXa5Xm",
        "outputId": "7ae290e5-040e-408f-ea8d-e39b2cbe13e5"
      },
      "execution_count": 92,
      "outputs": [
        {
          "output_type": "execute_result",
          "data": {
            "text/plain": [
              "' Give their children sanskar'"
            ],
            "application/vnd.google.colaboratory.intrinsic+json": {
              "type": "string"
            }
          },
          "metadata": {},
          "execution_count": 92
        }
      ]
    },
    {
      "cell_type": "code",
      "source": [
        "Happiness.Sanskar2()"
      ],
      "metadata": {
        "colab": {
          "base_uri": "https://localhost:8080/",
          "height": 36
        },
        "id": "Zs_bwngceRTx",
        "outputId": "896a84e5-68bc-4693-e996-8916584bcbca"
      },
      "execution_count": 93,
      "outputs": [
        {
          "output_type": "execute_result",
          "data": {
            "text/plain": [
              "'  make parents  feel  proud '"
            ],
            "application/vnd.google.colaboratory.intrinsic+json": {
              "type": "string"
            }
          },
          "metadata": {},
          "execution_count": 93
        }
      ]
    },
    {
      "cell_type": "code",
      "source": [
        "Happiness.Sanskar3()"
      ],
      "metadata": {
        "colab": {
          "base_uri": "https://localhost:8080/",
          "height": 36
        },
        "id": "7a5Qs9Nneg3Q",
        "outputId": "acc37998-08ec-436c-ce3a-96b62dd90ee2"
      },
      "execution_count": 94,
      "outputs": [
        {
          "output_type": "execute_result",
          "data": {
            "text/plain": [
              "'will do  great work in their  life'"
            ],
            "application/vnd.google.colaboratory.intrinsic+json": {
              "type": "string"
            }
          },
          "metadata": {},
          "execution_count": 94
        }
      ]
    },
    {
      "cell_type": "code",
      "source": [
        "#  4.  Hierarchical Inheritance:-\n",
        "#      When more than one derived class are created from a single base this type of inheritance is called hierarchical inheritance.\n",
        "#      In this program, we have a parent (base) class and two child (derived) classes.\n",
        "\n",
        "class Parent:\n",
        "  def fun1(self):\n",
        "    return \" This  is  a parent  class\"\n",
        "\n",
        "class child1(Parent):\n",
        "  def fun2(self):\n",
        "    return \" This  is  a  child1 class\"\n",
        "\n",
        "class child2(Parent):\n",
        "  def fun3(self):\n",
        "    return \"This  is a  child2  class\"\n",
        "\n",
        "object1 = child1()\n",
        "\n",
        "object1.fun1()\n"
      ],
      "metadata": {
        "colab": {
          "base_uri": "https://localhost:8080/",
          "height": 36
        },
        "id": "PcyUmLl9ejEm",
        "outputId": "f97e0157-f324-42a7-b682-c69cfbc29d57"
      },
      "execution_count": 95,
      "outputs": [
        {
          "output_type": "execute_result",
          "data": {
            "text/plain": [
              "' This  is  a parent  class'"
            ],
            "application/vnd.google.colaboratory.intrinsic+json": {
              "type": "string"
            }
          },
          "metadata": {},
          "execution_count": 95
        }
      ]
    },
    {
      "cell_type": "code",
      "source": [
        "object1.fun2()"
      ],
      "metadata": {
        "colab": {
          "base_uri": "https://localhost:8080/",
          "height": 36
        },
        "id": "3o0H9p5Mhaj6",
        "outputId": "4b26d29a-0cc3-49f0-cf20-b2319a61e46b"
      },
      "execution_count": 96,
      "outputs": [
        {
          "output_type": "execute_result",
          "data": {
            "text/plain": [
              "' This  is  a  child1 class'"
            ],
            "application/vnd.google.colaboratory.intrinsic+json": {
              "type": "string"
            }
          },
          "metadata": {},
          "execution_count": 96
        }
      ]
    },
    {
      "cell_type": "code",
      "source": [
        "object2 = child2()"
      ],
      "metadata": {
        "id": "Qj06QfrIiDc-"
      },
      "execution_count": 97,
      "outputs": []
    },
    {
      "cell_type": "code",
      "source": [
        "object2.fun1()"
      ],
      "metadata": {
        "colab": {
          "base_uri": "https://localhost:8080/",
          "height": 36
        },
        "id": "8KHWleXhiEJW",
        "outputId": "9d85d022-5f31-40e3-da9d-9d1e455b043a"
      },
      "execution_count": 98,
      "outputs": [
        {
          "output_type": "execute_result",
          "data": {
            "text/plain": [
              "' This  is  a parent  class'"
            ],
            "application/vnd.google.colaboratory.intrinsic+json": {
              "type": "string"
            }
          },
          "metadata": {},
          "execution_count": 98
        }
      ]
    },
    {
      "cell_type": "code",
      "source": [
        "object2.fun3()"
      ],
      "metadata": {
        "colab": {
          "base_uri": "https://localhost:8080/",
          "height": 36
        },
        "id": "_FnugWAQiIDk",
        "outputId": "b49fd51f-9b34-40ed-9aa9-eb596634ccbb"
      },
      "execution_count": 99,
      "outputs": [
        {
          "output_type": "execute_result",
          "data": {
            "text/plain": [
              "'This  is a  child2  class'"
            ],
            "application/vnd.google.colaboratory.intrinsic+json": {
              "type": "string"
            }
          },
          "metadata": {},
          "execution_count": 99
        }
      ]
    },
    {
      "cell_type": "code",
      "source": [
        "#  5. Hybrid Inheritance:-\n",
        "#     Inheritance consisting of multiple types of inheritance is called hybrid inheritance.\n",
        "\n",
        "class School:\n",
        "  def func1(self):\n",
        "    return \"This  function  is  in  school\""
      ],
      "metadata": {
        "id": "O3ROlWM9iIfX"
      },
      "execution_count": 100,
      "outputs": []
    },
    {
      "cell_type": "code",
      "source": [
        "class student1(School):\n",
        "  def func2(self):\n",
        "    return \"This  function  is  in  student1\""
      ],
      "metadata": {
        "id": "uV_kgQryqVpS"
      },
      "execution_count": 101,
      "outputs": []
    },
    {
      "cell_type": "code",
      "source": [
        "class student2(School):\n",
        "  def func3(self):\n",
        "    return \"This  function  is  in  student2\""
      ],
      "metadata": {
        "id": "guY_ti-Uqknp"
      },
      "execution_count": 102,
      "outputs": []
    },
    {
      "cell_type": "code",
      "source": [
        "class student3(student1 , School):\n",
        "  def func4(self):\n",
        "    return \"This  function  is  in  student3\""
      ],
      "metadata": {
        "id": "e4LAgG_fq1xh"
      },
      "execution_count": 103,
      "outputs": []
    },
    {
      "cell_type": "code",
      "source": [
        "object = student3()"
      ],
      "metadata": {
        "id": "SIjc_Oz8rEs7"
      },
      "execution_count": 104,
      "outputs": []
    },
    {
      "cell_type": "code",
      "source": [
        "object.func1()"
      ],
      "metadata": {
        "colab": {
          "base_uri": "https://localhost:8080/",
          "height": 36
        },
        "id": "LZR7EKu-rNcv",
        "outputId": "8cc47e21-f911-4b62-d3eb-66aebc245cbe"
      },
      "execution_count": 105,
      "outputs": [
        {
          "output_type": "execute_result",
          "data": {
            "text/plain": [
              "'This  function  is  in  school'"
            ],
            "application/vnd.google.colaboratory.intrinsic+json": {
              "type": "string"
            }
          },
          "metadata": {},
          "execution_count": 105
        }
      ]
    },
    {
      "cell_type": "code",
      "source": [
        "object.func2()"
      ],
      "metadata": {
        "colab": {
          "base_uri": "https://localhost:8080/",
          "height": 36
        },
        "id": "SIDdaecarSyr",
        "outputId": "85fa632d-4d33-437f-bb5a-36b6e7e30b0c"
      },
      "execution_count": 106,
      "outputs": [
        {
          "output_type": "execute_result",
          "data": {
            "text/plain": [
              "'This  function  is  in  student1'"
            ],
            "application/vnd.google.colaboratory.intrinsic+json": {
              "type": "string"
            }
          },
          "metadata": {},
          "execution_count": 106
        }
      ]
    },
    {
      "cell_type": "code",
      "source": [
        "object.func4()"
      ],
      "metadata": {
        "colab": {
          "base_uri": "https://localhost:8080/",
          "height": 36
        },
        "id": "Yh90gwCcrX2d",
        "outputId": "9c8b7d41-f4cf-48e3-e452-680cd325aa4f"
      },
      "execution_count": 107,
      "outputs": [
        {
          "output_type": "execute_result",
          "data": {
            "text/plain": [
              "'This  function  is  in  student3'"
            ],
            "application/vnd.google.colaboratory.intrinsic+json": {
              "type": "string"
            }
          },
          "metadata": {},
          "execution_count": 107
        }
      ]
    },
    {
      "cell_type": "code",
      "source": [],
      "metadata": {
        "id": "KGPcuEFira8k"
      },
      "execution_count": 107,
      "outputs": []
    }
  ]
}